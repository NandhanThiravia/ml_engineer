{
 "cells": [
  {
   "cell_type": "code",
   "execution_count": 8,
   "metadata": {},
   "outputs": [
    {
     "name": "stdout",
     "output_type": "stream",
     "text": [
      "[0.0, 0.4166666666666667, 1.0]\n"
     ]
    }
   ],
   "source": [
    "def featureScaling(arr):\n",
    "    length = len(arr)\n",
    "    if length == 0:\n",
    "        return None\n",
    "    \n",
    "    Xmin = arr[0]\n",
    "    Xmax = arr[0]\n",
    "    \n",
    "    if length > 1:    \n",
    "        index = 1\n",
    "        #print (length)\n",
    "        while index < length:\n",
    "            if Xmin > arr[index]:\n",
    "                Xmin = arr[index]\n",
    "\n",
    "            if Xmax < arr[index]:\n",
    "                Xmax = arr[index]\n",
    "            index = index + 1\n",
    "    \n",
    "    index = 0\n",
    "    while index < length:\n",
    "        try:\n",
    "            arr[index] = (float) (arr[index] - Xmin) / (Xmax - Xmin)\n",
    "        except ZeroDivisionError:\n",
    "            arr[index] = -1\n",
    "        index = index + 1\n",
    "    \n",
    "    return arr\n",
    "\n",
    "# tests of your feature scaler--line below is input data\n",
    "data = [115, 140, 175]\n",
    "print (featureScaling(data))"
   ]
  }
 ],
 "metadata": {
  "kernelspec": {
   "display_name": "Python 3",
   "language": "python",
   "name": "python3"
  },
  "language_info": {
   "codemirror_mode": {
    "name": "ipython",
    "version": 3
   },
   "file_extension": ".py",
   "mimetype": "text/x-python",
   "name": "python",
   "nbconvert_exporter": "python",
   "pygments_lexer": "ipython3",
   "version": "3.7.3"
  }
 },
 "nbformat": 4,
 "nbformat_minor": 2
}
